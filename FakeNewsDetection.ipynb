{
 "cells": [
  {
   "cell_type": "code",
   "execution_count": 2,
   "id": "d295bdd3",
   "metadata": {},
   "outputs": [],
   "source": [
    "import pandas as pd\n",
    "import numpy as np\n",
    "import matplotlib.pyplot as plt\n",
    "import seaborn as sns\n",
    "import torch\n",
    "import torch.nn as nn\n",
    "import torch.optim as optim\n",
    "from torch.utils.data import DataLoader, TensorDataset\n",
    "from sklearn.model_selection import train_test_split\n",
    "from sklearn.metrics import accuracy_score, precision_score, recall_score, f1_score, confusion_matrix\n",
    "from nltk.corpus import stopwords\n",
    "from nltk.stem import WordNetLemmatizer\n",
    "from nltk.tokenize import word_tokenize"
   ]
  },
  {
   "cell_type": "code",
   "execution_count": 3,
   "id": "3c4463d2",
   "metadata": {},
   "outputs": [],
   "source": [
    "fakeData= \"/Users/nourramadan/Documents/Fake.csv\"\n",
    "trueData=\"/Users/nourramadan/Documents/True.csv\"\n",
    "df_fake=pd.read_csv(fakeData)\n",
    "df_real=pd.read_csv(trueData)\n"
   ]
  },
  {
   "cell_type": "code",
   "execution_count": 4,
   "id": "d4222621",
   "metadata": {},
   "outputs": [
    {
     "data": {
      "text/html": [
       "<div>\n",
       "<style scoped>\n",
       "    .dataframe tbody tr th:only-of-type {\n",
       "        vertical-align: middle;\n",
       "    }\n",
       "\n",
       "    .dataframe tbody tr th {\n",
       "        vertical-align: top;\n",
       "    }\n",
       "\n",
       "    .dataframe thead th {\n",
       "        text-align: right;\n",
       "    }\n",
       "</style>\n",
       "<table border=\"1\" class=\"dataframe\">\n",
       "  <thead>\n",
       "    <tr style=\"text-align: right;\">\n",
       "      <th></th>\n",
       "      <th>title</th>\n",
       "      <th>text</th>\n",
       "      <th>subject</th>\n",
       "      <th>date</th>\n",
       "    </tr>\n",
       "  </thead>\n",
       "  <tbody>\n",
       "    <tr>\n",
       "      <th>0</th>\n",
       "      <td>Donald Trump Sends Out Embarrassing New Year’...</td>\n",
       "      <td>Donald Trump just couldn t wish all Americans ...</td>\n",
       "      <td>News</td>\n",
       "      <td>December 31, 2017</td>\n",
       "    </tr>\n",
       "    <tr>\n",
       "      <th>1</th>\n",
       "      <td>Drunk Bragging Trump Staffer Started Russian ...</td>\n",
       "      <td>House Intelligence Committee Chairman Devin Nu...</td>\n",
       "      <td>News</td>\n",
       "      <td>December 31, 2017</td>\n",
       "    </tr>\n",
       "    <tr>\n",
       "      <th>2</th>\n",
       "      <td>Sheriff David Clarke Becomes An Internet Joke...</td>\n",
       "      <td>On Friday, it was revealed that former Milwauk...</td>\n",
       "      <td>News</td>\n",
       "      <td>December 30, 2017</td>\n",
       "    </tr>\n",
       "    <tr>\n",
       "      <th>3</th>\n",
       "      <td>Trump Is So Obsessed He Even Has Obama’s Name...</td>\n",
       "      <td>On Christmas day, Donald Trump announced that ...</td>\n",
       "      <td>News</td>\n",
       "      <td>December 29, 2017</td>\n",
       "    </tr>\n",
       "    <tr>\n",
       "      <th>4</th>\n",
       "      <td>Pope Francis Just Called Out Donald Trump Dur...</td>\n",
       "      <td>Pope Francis used his annual Christmas Day mes...</td>\n",
       "      <td>News</td>\n",
       "      <td>December 25, 2017</td>\n",
       "    </tr>\n",
       "  </tbody>\n",
       "</table>\n",
       "</div>"
      ],
      "text/plain": [
       "                                               title  \\\n",
       "0   Donald Trump Sends Out Embarrassing New Year’...   \n",
       "1   Drunk Bragging Trump Staffer Started Russian ...   \n",
       "2   Sheriff David Clarke Becomes An Internet Joke...   \n",
       "3   Trump Is So Obsessed He Even Has Obama’s Name...   \n",
       "4   Pope Francis Just Called Out Donald Trump Dur...   \n",
       "\n",
       "                                                text subject  \\\n",
       "0  Donald Trump just couldn t wish all Americans ...    News   \n",
       "1  House Intelligence Committee Chairman Devin Nu...    News   \n",
       "2  On Friday, it was revealed that former Milwauk...    News   \n",
       "3  On Christmas day, Donald Trump announced that ...    News   \n",
       "4  Pope Francis used his annual Christmas Day mes...    News   \n",
       "\n",
       "                date  \n",
       "0  December 31, 2017  \n",
       "1  December 31, 2017  \n",
       "2  December 30, 2017  \n",
       "3  December 29, 2017  \n",
       "4  December 25, 2017  "
      ]
     },
     "execution_count": 4,
     "metadata": {},
     "output_type": "execute_result"
    }
   ],
   "source": [
    "#print first few rows of fake news data\n",
    "df_fake.head()"
   ]
  },
  {
   "cell_type": "code",
   "execution_count": 5,
   "id": "3090a768",
   "metadata": {},
   "outputs": [
    {
     "data": {
      "text/html": [
       "<div>\n",
       "<style scoped>\n",
       "    .dataframe tbody tr th:only-of-type {\n",
       "        vertical-align: middle;\n",
       "    }\n",
       "\n",
       "    .dataframe tbody tr th {\n",
       "        vertical-align: top;\n",
       "    }\n",
       "\n",
       "    .dataframe thead th {\n",
       "        text-align: right;\n",
       "    }\n",
       "</style>\n",
       "<table border=\"1\" class=\"dataframe\">\n",
       "  <thead>\n",
       "    <tr style=\"text-align: right;\">\n",
       "      <th></th>\n",
       "      <th>title</th>\n",
       "      <th>text</th>\n",
       "      <th>subject</th>\n",
       "      <th>date</th>\n",
       "    </tr>\n",
       "  </thead>\n",
       "  <tbody>\n",
       "    <tr>\n",
       "      <th>0</th>\n",
       "      <td>As U.S. budget fight looms, Republicans flip t...</td>\n",
       "      <td>WASHINGTON (Reuters) - The head of a conservat...</td>\n",
       "      <td>politicsNews</td>\n",
       "      <td>December 31, 2017</td>\n",
       "    </tr>\n",
       "    <tr>\n",
       "      <th>1</th>\n",
       "      <td>U.S. military to accept transgender recruits o...</td>\n",
       "      <td>WASHINGTON (Reuters) - Transgender people will...</td>\n",
       "      <td>politicsNews</td>\n",
       "      <td>December 29, 2017</td>\n",
       "    </tr>\n",
       "    <tr>\n",
       "      <th>2</th>\n",
       "      <td>Senior U.S. Republican senator: 'Let Mr. Muell...</td>\n",
       "      <td>WASHINGTON (Reuters) - The special counsel inv...</td>\n",
       "      <td>politicsNews</td>\n",
       "      <td>December 31, 2017</td>\n",
       "    </tr>\n",
       "    <tr>\n",
       "      <th>3</th>\n",
       "      <td>FBI Russia probe helped by Australian diplomat...</td>\n",
       "      <td>WASHINGTON (Reuters) - Trump campaign adviser ...</td>\n",
       "      <td>politicsNews</td>\n",
       "      <td>December 30, 2017</td>\n",
       "    </tr>\n",
       "    <tr>\n",
       "      <th>4</th>\n",
       "      <td>Trump wants Postal Service to charge 'much mor...</td>\n",
       "      <td>SEATTLE/WASHINGTON (Reuters) - President Donal...</td>\n",
       "      <td>politicsNews</td>\n",
       "      <td>December 29, 2017</td>\n",
       "    </tr>\n",
       "  </tbody>\n",
       "</table>\n",
       "</div>"
      ],
      "text/plain": [
       "                                               title  \\\n",
       "0  As U.S. budget fight looms, Republicans flip t...   \n",
       "1  U.S. military to accept transgender recruits o...   \n",
       "2  Senior U.S. Republican senator: 'Let Mr. Muell...   \n",
       "3  FBI Russia probe helped by Australian diplomat...   \n",
       "4  Trump wants Postal Service to charge 'much mor...   \n",
       "\n",
       "                                                text       subject  \\\n",
       "0  WASHINGTON (Reuters) - The head of a conservat...  politicsNews   \n",
       "1  WASHINGTON (Reuters) - Transgender people will...  politicsNews   \n",
       "2  WASHINGTON (Reuters) - The special counsel inv...  politicsNews   \n",
       "3  WASHINGTON (Reuters) - Trump campaign adviser ...  politicsNews   \n",
       "4  SEATTLE/WASHINGTON (Reuters) - President Donal...  politicsNews   \n",
       "\n",
       "                 date  \n",
       "0  December 31, 2017   \n",
       "1  December 29, 2017   \n",
       "2  December 31, 2017   \n",
       "3  December 30, 2017   \n",
       "4  December 29, 2017   "
      ]
     },
     "execution_count": 5,
     "metadata": {},
     "output_type": "execute_result"
    }
   ],
   "source": [
    "#print first few rows of real news data\n",
    "df_real.head()"
   ]
  },
  {
   "cell_type": "code",
   "execution_count": 6,
   "id": "68f58a18",
   "metadata": {},
   "outputs": [
    {
     "name": "stdout",
     "output_type": "stream",
     "text": [
      "(23481, 4)\n",
      "(21417, 4)\n"
     ]
    }
   ],
   "source": [
    "print(df_fake.shape) # output number of rows and columns\n",
    "print(df_real.shape) # output number of rows and columns"
   ]
  },
  {
   "cell_type": "code",
   "execution_count": 7,
   "id": "528da17f",
   "metadata": {},
   "outputs": [
    {
     "name": "stdout",
     "output_type": "stream",
     "text": [
      "Shape of df_fake :  (21417, 4)\n",
      "Shape of df_real :  (21417, 4)\n"
     ]
    }
   ],
   "source": [
    "import pandas as pd\n",
    "# balance the dataset\n",
    "df_fake_sampled= df_fake.sample(n=len(df_real), random_state=42)\n",
    "df_fake= df_fake_sampled.head(len(df_real)).copy()\n",
    "\n",
    "print(\"Shape of df_fake : \", df_fake.shape)\n",
    "print(\"Shape of df_real : \", df_real.shape)"
   ]
  },
  {
   "cell_type": "code",
   "execution_count": 8,
   "id": "a3df5a98",
   "metadata": {},
   "outputs": [
    {
     "name": "stdout",
     "output_type": "stream",
     "text": [
      "News               8241\n",
      "politics           6259\n",
      "left-news          4074\n",
      "Government News    1433\n",
      "US_News             708\n",
      "Middle-east         702\n",
      "Name: subject, dtype: int64\n"
     ]
    }
   ],
   "source": [
    "print(df_fake['subject'].value_counts()) # display counts of each subject"
   ]
  },
  {
   "cell_type": "code",
   "execution_count": 9,
   "id": "4be9435c",
   "metadata": {},
   "outputs": [
    {
     "name": "stdout",
     "output_type": "stream",
     "text": [
      "politicsNews    11272\n",
      "worldnews       10145\n",
      "Name: subject, dtype: int64\n"
     ]
    }
   ],
   "source": [
    "print(df_real['subject'].value_counts()) # display counts of each subject"
   ]
  },
  {
   "cell_type": "code",
   "execution_count": 10,
   "id": "100f304c",
   "metadata": {},
   "outputs": [
    {
     "data": {
      "image/png": "[encoded data removed]",
      "text/plain": [
       "<Figure size 288x288 with 1 Axes>"
      ]
     },
     "metadata": {
      "needs_background": "light"
     },
     "output_type": "display_data"
    }
   ],
   "source": [
    "import matplotlib.pyplot as plt\n",
    "import seaborn as sns\n",
    "\n",
    "# Get the shapes of the datasets\n",
    "fake_shape = df_fake.shape[0]\n",
    "real_shape = df_real.shape[0]\n",
    "\n",
    "# Choose colors\n",
    "colors = [\"#3498db\", \"#2ecc71\"] \n",
    "\n",
    "# Create a bar plot\n",
    "plt.figure(figsize=(4, 4))\n",
    "sns.barplot(x=['Fake', 'Real'], y=[fake_shape, real_shape], palette=colors)\n",
    "plt.title('Number of Rows in Fake and Real Datasets')\n",
    "plt.xlabel('Dataset')\n",
    "plt.ylabel('Number of Rows')\n",
    "plt.show()\n"
   ]
  },
  {
   "cell_type": "code",
   "execution_count": 11,
   "id": "fa4cb423",
   "metadata": {},
   "outputs": [],
   "source": [
    "df_fake = df_fake.drop('date', axis=1) # drop date column"
   ]
  },
  {
   "cell_type": "code",
   "execution_count": 12,
   "id": "1b6f4654",
   "metadata": {},
   "outputs": [],
   "source": [
    "df_real = df_real.drop('date', axis=1) # drop date column"
   ]
  },
  {
   "cell_type": "code",
   "execution_count": 13,
   "id": "56bae0c6",
   "metadata": {},
   "outputs": [],
   "source": [
    "# add label and assign for each data before merging\n",
    "df_fake['label'] ='Fake'\n",
    "df_real['label'] ='True'\n"
   ]
  },
  {
   "cell_type": "code",
   "execution_count": 14,
   "id": "d85e5c4e",
   "metadata": {},
   "outputs": [
    {
     "data": {
      "text/html": [
       "<div>\n",
       "<style scoped>\n",
       "    .dataframe tbody tr th:only-of-type {\n",
       "        vertical-align: middle;\n",
       "    }\n",
       "\n",
       "    .dataframe tbody tr th {\n",
       "        vertical-align: top;\n",
       "    }\n",
       "\n",
       "    .dataframe thead th {\n",
       "        text-align: right;\n",
       "    }\n",
       "</style>\n",
       "<table border=\"1\" class=\"dataframe\">\n",
       "  <thead>\n",
       "    <tr style=\"text-align: right;\">\n",
       "      <th></th>\n",
       "      <th>title</th>\n",
       "      <th>text</th>\n",
       "      <th>subject</th>\n",
       "      <th>label</th>\n",
       "    </tr>\n",
       "  </thead>\n",
       "  <tbody>\n",
       "    <tr>\n",
       "      <th>0</th>\n",
       "      <td>ABOUT HILLARY’S COUGH: We Discovered The Secre...</td>\n",
       "      <td></td>\n",
       "      <td>politics</td>\n",
       "      <td>Fake</td>\n",
       "    </tr>\n",
       "    <tr>\n",
       "      <th>1</th>\n",
       "      <td>BREAKING: OBAMACARE REPEAL Clears First Hurdle...</td>\n",
       "      <td>The Senate voted 51-48 this afternoon to proce...</td>\n",
       "      <td>politics</td>\n",
       "      <td>Fake</td>\n",
       "    </tr>\n",
       "    <tr>\n",
       "      <th>2</th>\n",
       "      <td>‘SLEEPY’ JUSTICE GINSBURG: Excites Crowd By Sa...</td>\n",
       "      <td>So much for the SCOTUS not being political Che...</td>\n",
       "      <td>left-news</td>\n",
       "      <td>Fake</td>\n",
       "    </tr>\n",
       "    <tr>\n",
       "      <th>3</th>\n",
       "      <td>WATCH: Kellyanne Conway Very Upset Hillary Cl...</td>\n",
       "      <td>White House counselor Kellyanne Conway crawled...</td>\n",
       "      <td>News</td>\n",
       "      <td>Fake</td>\n",
       "    </tr>\n",
       "    <tr>\n",
       "      <th>4</th>\n",
       "      <td>GOP Gives Trump The Middle Finger, Prepares T...</td>\n",
       "      <td>Donald Trump may have decided that Russia is g...</td>\n",
       "      <td>News</td>\n",
       "      <td>Fake</td>\n",
       "    </tr>\n",
       "  </tbody>\n",
       "</table>\n",
       "</div>"
      ],
      "text/plain": [
       "                                               title  \\\n",
       "0  ABOUT HILLARY’S COUGH: We Discovered The Secre...   \n",
       "1  BREAKING: OBAMACARE REPEAL Clears First Hurdle...   \n",
       "2  ‘SLEEPY’ JUSTICE GINSBURG: Excites Crowd By Sa...   \n",
       "3   WATCH: Kellyanne Conway Very Upset Hillary Cl...   \n",
       "4   GOP Gives Trump The Middle Finger, Prepares T...   \n",
       "\n",
       "                                                text    subject label  \n",
       "0                                                      politics  Fake  \n",
       "1  The Senate voted 51-48 this afternoon to proce...   politics  Fake  \n",
       "2  So much for the SCOTUS not being political Che...  left-news  Fake  \n",
       "3  White House counselor Kellyanne Conway crawled...       News  Fake  \n",
       "4  Donald Trump may have decided that Russia is g...       News  Fake  "
      ]
     },
     "execution_count": 14,
     "metadata": {},
     "output_type": "execute_result"
    }
   ],
   "source": [
    "import pandas as pd\n",
    "# merge datasets\n",
    "df_merged = pd.concat([df_fake, df_real], ignore_index=True)\n",
    "df_merged.head()"
   ]
  },
  {
   "cell_type": "code",
   "execution_count": 15,
   "id": "06995a3a",
   "metadata": {},
   "outputs": [
    {
     "name": "stdout",
     "output_type": "stream",
     "text": [
      "Average Title Length by Classification:\n",
      "label\n",
      "Fake    94.184199\n",
      "True    64.667881\n",
      "Name: title_length, dtype: float64\n"
     ]
    },
    {
     "data": {
      "image/png": "[encoded data removed]",
      "text/plain": [
       "<Figure size 864x432 with 1 Axes>"
      ]
     },
     "metadata": {
      "needs_background": "light"
     },
     "output_type": "display_data"
    }
   ],
   "source": [
    "import pandas as pd\n",
    "import matplotlib.pyplot as plt\n",
    "import seaborn as sns\n",
    "\n",
    "# Create a new column for title length\n",
    "df_merged['title_length'] = df_merged['title'].apply(len)\n",
    "\n",
    "# Calculate the average title length for each class\n",
    "average_title_length = df_merged.groupby('label')['title_length'].mean()\n",
    "\n",
    "# Display result\n",
    "print(\"Average Title Length by Classification:\")\n",
    "print(average_title_length)\n",
    "\n",
    "# Plotting histogram\n",
    "plt.figure(figsize=(12, 6))\n",
    "sns.histplot(x='title_length', hue='label', data=df_merged, kde=True)\n",
    "plt.title('Title Length Distribution by Classification')\n",
    "plt.show()"
   ]
  },
  {
   "cell_type": "code",
   "execution_count": 16,
   "id": "3e20deac",
   "metadata": {},
   "outputs": [
    {
     "name": "stderr",
     "output_type": "stream",
     "text": [
      "[nltk_data] Downloading package stopwords to\n",
      "[nltk_data]     /Users/nourramadan/nltk_data...\n",
      "[nltk_data]   Package stopwords is already up-to-date!\n",
      "[nltk_data] Downloading package punkt to\n",
      "[nltk_data]     /Users/nourramadan/nltk_data...\n",
      "[nltk_data]   Package punkt is already up-to-date!\n",
      "[nltk_data] Downloading package wordnet to\n",
      "[nltk_data]     /Users/nourramadan/nltk_data...\n",
      "[nltk_data]   Package wordnet is already up-to-date!\n"
     ]
    },
    {
     "name": "stdout",
     "output_type": "stream",
     "text": [
      "Most Common Words for 'Fake' Label:\n",
      "[('trump', 67816), ('said', 28421), ('president', 24002), ('people', 23790), ('one', 21675), ('would', 21292), ('state', 20052), ('clinton', 16984), ('like', 16516), ('time', 16329)]\n",
      "\n",
      "Most Common Words for 'True' Label:\n",
      "[('said', 99037), ('trump', 54280), ('state', 36243), ('would', 31526), ('reuters', 28412), ('president', 26939), ('republican', 22098), ('government', 19433), ('year', 18721), ('house', 16906)]\n"
     ]
    }
   ],
   "source": [
    "import pandas as pd\n",
    "from nltk.tokenize import word_tokenize\n",
    "from nltk.corpus import stopwords\n",
    "from collections import Counter\n",
    "\n",
    "\n",
    "import nltk\n",
    "nltk.download('stopwords')\n",
    "nltk.download('punkt')\n",
    "nltk.download('wordnet')\n",
    "\n",
    "\n",
    "def preprocess_text(text):\n",
    "    # Lowercasing\n",
    "    text = text.lower()\n",
    "   \n",
    "    # Tokenization\n",
    "    tokens = word_tokenize(text)\n",
    "   \n",
    "    # Removing stopwords and punctuation\n",
    "    stop_words = set(stopwords.words('english'))\n",
    "    tokens = [word for word in tokens if word.isalpha() and word not in stop_words and word not in string.punctuation]\n",
    "   \n",
    "    # Lemmatization\n",
    "    lemmatizer = WordNetLemmatizer()\n",
    "    tokens = [lemmatizer.lemmatize(word) for word in tokens]\n",
    "   \n",
    "    return tokens\n",
    "\n",
    "# Apply text preprocessing and create a list of words for each label\n",
    "fake_words = df_merged[df_merged['label'] == 'Fake']['text'].apply(preprocess_text)\n",
    "true_words = df_merged[df_merged['label'] == 'True']['text'].apply(preprocess_text)\n",
    "\n",
    "# Flatten the lists of words\n",
    "fake_word_list = [word for sublist in fake_words for word in sublist]\n",
    "true_word_list = [word for sublist in true_words for word in sublist]\n",
    "\n",
    "# Count the occurrences of each word\n",
    "fake_word_counts = Counter(fake_word_list)\n",
    "true_word_counts = Counter(true_word_list)\n",
    "\n",
    "# Display the most common words for each label\n",
    "print(\"Most Common Words for 'Fake' Label:\")\n",
    "print(fake_word_counts.most_common(10))\n",
    "\n",
    "print(\"\\nMost Common Words for 'True' Label:\")\n",
    "print(true_word_counts.most_common(10))\n",
    "\n",
    "\n",
    "df_merged['processed_text'] = df_merged['text'].apply(preprocess_text)"
   ]
  },
  {
   "cell_type": "code",
   "execution_count": 18,
   "id": "fc497fb1",
   "metadata": {},
   "outputs": [],
   "source": [
    "import pandas as pd\n",
    "import numpy as np\n",
    "import torch\n",
    "import torch.nn as nn\n",
    "import torch.optim as optim\n",
    "from torch.utils.data import DataLoader, TensorDataset\n",
    "from sklearn.model_selection import train_test_split\n",
    "from sklearn.metrics import accuracy_score, precision_score, recall_score, f1_score, confusion_matrix\n",
    "from nltk.tokenize import word_tokenize\n",
    "from nltk.corpus import stopwords\n",
    "from nltk.stem import WordNetLemmatizer\n",
    "import string\n",
    "from collections import Counter"
   ]
  },
  {
   "cell_type": "code",
   "execution_count": 19,
   "id": "6e8c9bc3",
   "metadata": {},
   "outputs": [],
   "source": [
    "fake_data_path = \"/Users/nourramadan/Documents/Fake.csv\"\n",
    "true_data_path = \"/Users/nourramadan/Documents/True.csv\"\n",
    "df_fake = pd.read_csv(fake_data_path)\n",
    "df_true = pd.read_csv(true_data_path)"
   ]
  },
  {
   "cell_type": "code",
   "execution_count": 20,
   "id": "b2f3f06f",
   "metadata": {},
   "outputs": [],
   "source": [
    "df_fake['label'] = 'Fake'\n",
    "df_true['label'] = 'True'\n",
    "df_merged = pd.concat([df_fake, df_true], ignore_index=True)\n",
    "\n",
    "# Tokenize and preprocess text\n",
    "stop_words = set(stopwords.words('english'))\n",
    "lemmatizer = WordNetLemmatizer()\n",
    "\n",
    "def preprocess_text(text):\n",
    "    text = text.lower()\n",
    "    tokens = word_tokenize(text)\n",
    "    tokens = [lemmatizer.lemmatize(word) for word in tokens if word.isalpha() and word not in stop_words and word not in string.punctuation]\n",
    "    return tokens\n",
    "\n",
    "df_merged['processed_text'] = df_merged['text'].apply(preprocess_text)"
   ]
  },
  {
   "cell_type": "code",
   "execution_count": 21,
   "id": "dc7a5709",
   "metadata": {},
   "outputs": [],
   "source": [
    "# train and test the data with 80/20 split\n",
    "train_data, test_data = train_test_split(df_merged, test_size=0.2, random_state=42)"
   ]
  },
  {
   "cell_type": "code",
   "execution_count": 22,
   "id": "888cffbf",
   "metadata": {},
   "outputs": [],
   "source": [
    "all_tokens = [word for sublist in train_data['processed_text'] for word in sublist]\n",
    "vocab_size = 10000\n",
    "word_counts = Counter(all_tokens)\n",
    "vocab = [word for word, _ in word_counts.most_common(vocab_size)]"
   ]
  },
  {
   "cell_type": "code",
   "execution_count": 23,
   "id": "a1d0ad45",
   "metadata": {},
   "outputs": [],
   "source": [
    "# Convert words to indices in the vocabulary\n",
    "word_to_index = {word: idx for idx, word in enumerate(vocab)}\n",
    "train_data['indexed_text'] = train_data['processed_text'].apply(lambda x: [word_to_index[word] for word in x if word in word_to_index])\n",
    "test_data['indexed_text'] = test_data['processed_text'].apply(lambda x: [word_to_index[word] for word in x if word in word_to_index])"
   ]
  },
  {
   "cell_type": "code",
   "execution_count": 24,
   "id": "2f81415a",
   "metadata": {},
   "outputs": [],
   "source": [
    "max_seq_length = 200\n",
    "train_data['padded_text'] = train_data['indexed_text'].apply(lambda x: x[:max_seq_length] + [0] * (max_seq_length - len(x)))\n",
    "test_data['padded_text'] = test_data['indexed_text'].apply(lambda x: x[:max_seq_length] + [0] * (max_seq_length - len(x)))"
   ]
  },
  {
   "cell_type": "code",
   "execution_count": 25,
   "id": "57be90a8",
   "metadata": {},
   "outputs": [],
   "source": [
    "# Convert the 'padded_text' column of the training data to a tensor\n",
    "X_train = torch.tensor(train_data['padded_text'].tolist())\n",
    "# Convert the 'label' column of the training data to a tensor,\n",
    "# mapping 'Fake' to 0 and 'True' to 1 for binary classification\n",
    "y_train = torch.tensor(train_data['label'].map({'Fake': 0, 'True': 1}).tolist()\n",
    "\n",
    "X_test = torch.tensor(test_data['padded_text'].tolist())\n",
    "y_test = torch.tensor(test_data['label'].map({'Fake': 0, 'True': 1}).tolist())"
   ]
  },
  {
   "cell_type": "code",
   "execution_count": 26,
   "id": "6f393c8a",
   "metadata": {},
   "outputs": [],
   "source": [
    "# Set the batch size for loading the data\n",
    "batch_size = 32\n",
    "# Create a TensorDataset for the training set using input features and labels\n",
    "train_dataset = TensorDataset(X_train, y_train)\n",
    "# Create a DataLoader for the training set to enable batching and shuffling of the data\n",
    "\n",
    "train_loader = DataLoader(train_dataset, batch_size=batch_size, shuffle=True)\n",
    "\n",
    "test_dataset = TensorDataset(X_test, y_test)\n",
    "test_loader = DataLoader(test_dataset, batch_size=batch_size, shuffle=False)"
   ]
  },
  {
   "cell_type": "code",
   "execution_count": 31,
   "id": "be2762af",
   "metadata": {},
   "outputs": [],
   "source": [
    "# Attention model with LSTM network\n",
    "class AttentionModel(nn.Module):\n",
    "    def __init__(self, vocab_size, embed_size, hidden_size, output_size):\n",
    "        super(AttentionModel, self).__init__()\n",
    "        # Embedding layer that converts word indices into dense vectors\n",
    "        self.embedding = nn.Embedding(vocab_size, embed_size)\n",
    "        # Embedding layer that converts word indices into dense vectors\n",
    "        self.attention = nn.MultiheadAttention(embed_size, num_heads=1)\n",
    "        # LSTM layer to capture sequential dependencies in the input data\n",
    "        self.rnn = nn.LSTM(embed_size, hidden_size, batch_first=True)\n",
    "        # Fully connected layer to produce final class scores\n",
    "        self.fc = nn.Linear(hidden_size, output_size)\n",
    "\n",
    "    def forward(self, x):\n",
    "        # Pass the input word indices through the embedding layer\n",
    "        embedded = self.embedding(x)\n",
    "        # Apply the attention mechanism to the embedded inputs\n",
    "        \n",
    "        attention_output, _ = self.attention(embedded.permute(1, 0, 2), embedded.permute(1, 0, 2), embedded.permute(1, 0, 2))\n",
    "        attended_embedding = attention_output.permute(1, 0, 2)\n",
    "        # Feed the attended embeddings into the LSTM network\n",
    "        rnn_output, _ = self.rnn(attended_embedding)\n",
    "        # Take the last hidden state of the LSTM for classification\n",
    "        output = self.fc(rnn_output[:, -1, :])\n",
    "        return output"
   ]
  },
  {
   "cell_type": "code",
   "execution_count": 32,
   "id": "770a3b33",
   "metadata": {},
   "outputs": [],
   "source": [
    "vocab_size = len(vocab)\n",
    "embed_size = 100\n",
    "hidden_size = 64\n",
    "output_size = 2\n",
    "\n",
    "model = AttentionModel(vocab_size, embed_size, hidden_size, output_size)\n",
    "# Define the loss function for classification\n",
    "criterion = nn.CrossEntropyLoss()\n",
    "# define optimizer\n",
    "optimizer = optim.Adam(model.parameters(), lr=0.001)"
   ]
  },
  {
   "cell_type": "code",
   "execution_count": 34,
   "id": "c2dbcfda",
   "metadata": {},
   "outputs": [
    {
     "name": "stdout",
     "output_type": "stream",
     "text": [
      "Epoch 1/5, Time: 207.99 seconds\n",
      "Epoch 2/5, Time: 208.32 seconds\n",
      "Epoch 3/5, Time: 206.49 seconds\n",
      "Epoch 4/5, Time: 207.35 seconds\n",
      "Epoch 5/5, Time: 206.50 seconds\n"
     ]
    }
   ],
   "source": [
    "import time\n",
    "\n",
    "num_epochs = 5 # set num of epochs\n",
    "for epoch in range(num_epochs):\n",
    "    start_time = time.time()\n",
    "\n",
    "    model.train()\n",
    "    for inputs, labels in train_loader:\n",
    "        optimizer.zero_grad()\n",
    "        outputs = model(inputs)\n",
    "        loss = criterion(outputs, labels)\n",
    "        loss.backward()\n",
    "        optimizer.step()\n",
    "\n",
    "    end_time = time.time()\n",
    "    epoch_time = end_time - start_time\n",
    "    print(f\"Epoch {epoch + 1}/{num_epochs}, Time: {epoch_time:.2f} seconds\")"
   ]
  },
  {
   "cell_type": "code",
   "execution_count": 35,
   "id": "1fc90939",
   "metadata": {},
   "outputs": [],
   "source": [
    "\n",
    "model.eval()\n",
    "# Initialize lists to store all predictions and true labels\n",
    "all_predictions = []\n",
    "all_labels = []\n",
    "with torch.no_grad():\n",
    "    # Loop over the test dataset\n",
    "    for inputs, labels in test_loader:\n",
    "        outputs = model(inputs)\n",
    "        # Get predicted class by taking the argmax of the output probabilities\n",
    "        predictions = torch.argmax(outputs, dim=1)\n",
    "        # store predictions and labels in lists\n",
    "        all_predictions.extend(predictions.cpu().numpy())\n",
    "        all_labels.extend(labels.cpu().numpy())"
   ]
  },
  {
   "cell_type": "code",
   "execution_count": 36,
   "id": "3a31eed4",
   "metadata": {},
   "outputs": [
    {
     "name": "stdout",
     "output_type": "stream",
     "text": [
      "Accuracy: 0.9947\n",
      "Precision: 0.9955\n",
      "Recall: 0.9932\n",
      "F1 Score: 0.9943\n",
      "Confusion Matrix:\n",
      "[[4714   19]\n",
      " [  29 4218]]\n"
     ]
    }
   ],
   "source": [
    "# display accuracy, precision, recall, f1 score, and confusion matrix\n",
    "\n",
    "accuracy = accuracy_score(all_labels, all_predictions)\n",
    "precision = precision_score(all_labels, all_predictions)\n",
    "recall = recall_score(all_labels, all_predictions)\n",
    "f1 = f1_score(all_labels, all_predictions)\n",
    "conf_matrix = confusion_matrix(all_labels, all_predictions)\n",
    "\n",
    "print(f\"Accuracy: {accuracy:.4f}\")\n",
    "print(f\"Precision: {precision:.4f}\")\n",
    "print(f\"Recall: {recall:.4f}\")\n",
    "print(f\"F1 Score: {f1:.4f}\")\n",
    "print(\"Confusion Matrix:\")\n",
    "print(conf_matrix)"
   ]
  },
  {
   "cell_type": "code",
   "execution_count": 38,
   "id": "6681ab7d",
   "metadata": {
    "scrolled": true
   },
   "outputs": [
    {
     "name": "stdout",
     "output_type": "stream",
     "text": [
      "Classification Report:\n",
      "              precision    recall  f1-score   support\n",
      "\n",
      "        Fake       0.99      1.00      0.99      4733\n",
      "        True       1.00      0.99      0.99      4247\n",
      "\n",
      "    accuracy                           0.99      8980\n",
      "   macro avg       0.99      0.99      0.99      8980\n",
      "weighted avg       0.99      0.99      0.99      8980\n",
      "\n"
     ]
    }
   ],
   "source": [
    "from sklearn.metrics import classification_report\n",
    "\n",
    "# Evaluate on the test set\n",
    "model.eval()\n",
    "all_predictions = []\n",
    "all_labels = []\n",
    "\n",
    "with torch.no_grad():\n",
    "    for inputs, labels in test_loader:\n",
    "        outputs = model(inputs)\n",
    "        predictions = torch.argmax(outputs, dim=1)\n",
    "        all_predictions.extend(predictions.cpu().numpy())\n",
    "        all_labels.extend(labels.cpu().numpy())\n",
    "\n",
    "# Calculate and print the classification report\n",
    "class_names = ['Fake', 'True']\n",
    "print(\"Classification Report:\")\n",
    "print(classification_report(all_labels, all_predictions, target_names=class_names))"
   ]
  },
  {
   "cell_type": "code",
   "execution_count": 39,
   "id": "c2b3bbbd",
   "metadata": {},
   "outputs": [
    {
     "name": "stdout",
     "output_type": "stream",
     "text": [
      "Predicted Label: Fake\n"
     ]
    }
   ],
   "source": [
    "import torch\n",
    "from nltk.tokenize import word_tokenize\n",
    "from nltk.corpus import stopwords\n",
    "from nltk.stem import WordNetLemmatizer\n",
    "import string\n",
    "\n",
    "# Example text\n",
    "new_text = \"Scientists discover a new planet in our solar system.\"\n",
    "\n",
    "# Preprocess the new text\n",
    "def preprocess_text(text):\n",
    "    text = text.lower()\n",
    "    tokens = word_tokenize(text)\n",
    "    stop_words = set(stopwords.words('english'))\n",
    "    tokens = [word for word in tokens if word.isalpha() and word not in stop_words and word not in string.punctuation]\n",
    "    lemmatizer = WordNetLemmatizer()\n",
    "    tokens = [lemmatizer.lemmatize(word) for word in tokens]\n",
    "    return tokens\n",
    "\n",
    "processed_text = preprocess_text(new_text)\n",
    "\n",
    "# Convert words to indices using the same word_to_index mapping\n",
    "indexed_text = [word_to_index[word] for word in processed_text if word in word_to_index]\n",
    "\n",
    "# Pad the sequence\n",
    "max_seq_length = 200\n",
    "padded_text = indexed_text[:max_seq_length] + [0] * (max_seq_length - len(indexed_text))\n",
    "\n",
    "# Convert to PyTorch tensor\n",
    "input_tensor = torch.tensor([padded_text])\n",
    "\n",
    "# Make prediction\n",
    "model.eval()\n",
    "with torch.no_grad():\n",
    "    output = model(input_tensor)\n",
    "    predicted_class = torch.argmax(output).item()\n",
    "\n",
    "# Map predicted class index to label\n",
    "predicted_label = 'Fake' if predicted_class == 0 else 'True'\n",
    "\n",
    "print(f\"Predicted Label: {predicted_label}\")"
   ]
  },
  {
   "cell_type": "code",
   "execution_count": 41,
   "id": "d2628548",
   "metadata": {},
   "outputs": [
    {
     "name": "stdout",
     "output_type": "stream",
     "text": [
      "Classification Report:\n",
      "              precision    recall  f1-score   support\n",
      "\n",
      "        Fake       0.99      1.00      0.99      4733\n",
      "        True       1.00      0.99      0.99      4247\n",
      "\n",
      "    accuracy                           0.99      8980\n",
      "   macro avg       0.99      0.99      0.99      8980\n",
      "weighted avg       0.99      0.99      0.99      8980\n",
      "\n"
     ]
    },
    {
     "data": {
      "image/png": "[encoded data removed]",
      "text/plain": [
       "<Figure size 576x432 with 2 Axes>"
      ]
     },
     "metadata": {
      "needs_background": "light"
     },
     "output_type": "display_data"
    }
   ],
   "source": [
    "import torch\n",
    "from nltk.tokenize import word_tokenize\n",
    "from nltk.corpus import stopwords\n",
    "from nltk.stem import WordNetLemmatizer\n",
    "import string\n",
    "from sklearn.metrics import confusion_matrix\n",
    "import seaborn as sns\n",
    "import matplotlib.pyplot as plt\n",
    "\n",
    "\n",
    "model.eval()\n",
    "all_predictions = []\n",
    "all_labels = []\n",
    "\n",
    "with torch.no_grad():\n",
    "    for inputs, labels in test_loader:\n",
    "        outputs = model(inputs)\n",
    "        predictions = torch.argmax(outputs, dim=1)\n",
    "        all_predictions.extend(predictions.cpu().numpy())\n",
    "        all_labels.extend(labels.cpu().numpy())\n",
    "\n",
    "# Calculate and print the classification report\n",
    "class_names = ['Fake', 'True']\n",
    "print(\"Classification Report:\")\n",
    "print(classification_report(all_labels, all_predictions, target_names=class_names))\n",
    "\n",
    "# Calculate and plot the confusion matrix\n",
    "conf_matrix = confusion_matrix(all_labels, all_predictions)\n",
    "plt.figure(figsize=(8, 6))\n",
    "sns.heatmap(conf_matrix, annot=True, fmt=\"d\", cmap=\"Blues\", xticklabels=class_names, yticklabels=class_names)\n",
    "plt.title('Confusion Matrix')\n",
    "plt.xlabel('Predicted Label')\n",
    "plt.ylabel('True Label')\n",
    "plt.show()"
   ]
  }
 ],
 "metadata": {
  "kernelspec": {
   "display_name": "Python 3 (ipykernel)",
   "language": "python",
   "name": "python3"
  },
  "language_info": {
   "codemirror_mode": {
    "name": "ipython",
    "version": 3
   },
   "file_extension": ".py",
   "mimetype": "text/x-python",
   "name": "python",
   "nbconvert_exporter": "python",
   "pygments_lexer": "ipython3",
   "version": "3.9.7"
  }
 },
 "nbformat": 4,
 "nbformat_minor": 5
}
